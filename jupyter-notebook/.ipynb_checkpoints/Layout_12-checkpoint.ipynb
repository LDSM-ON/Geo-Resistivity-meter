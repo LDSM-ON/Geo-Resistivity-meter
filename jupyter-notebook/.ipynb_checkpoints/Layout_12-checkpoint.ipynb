{
 "cells": [
  {
   "cell_type": "code",
   "execution_count": 1,
   "id": "85cbbe4b",
   "metadata": {},
   "outputs": [
    {
     "name": "stdout",
     "output_type": "stream",
     "text": [
      "API path =  C:\\Users\\ON\\anaconda3\\lib\\site-packages\\resipy\n",
      "ResIPy version =  3.3.3\n",
      "cR2.exe found and up to date.\n",
      "R3t.exe found and up to date.\n",
      "cR3t.exe found and up to date.\n",
      "Working directory is: C:\\Users\\ON\\anaconda3\\lib\\site-packages\\resipy\n",
      "clearing dirname\n",
      "308/344 reciprocal measurements found.\n",
      "0 measurements error > 20 %\n"
     ]
    },
    {
     "name": "stderr",
     "output_type": "stream",
     "text": [
      "Exception in Tkinter callback\n",
      "Traceback (most recent call last):\n",
      "  File \"C:\\Users\\ON\\anaconda3\\lib\\tkinter\\__init__.py\", line 1892, in __call__\n",
      "    return self.func(*args)\n",
      "  File \"C:\\Users\\ON\\Desktop\\GuitHub\\gitHub_2\\jupyter-notebook\\main_02.py\", line 256, in start\n",
      "    output_text = Text(tab2, width=120, height=30)\n",
      "NameError: name 'tab2' is not defined\n"
     ]
    },
    {
     "data": {
      "text/plain": [
       "<__main__.janelaLogin at 0x1e7e366c3a0>"
      ]
     },
     "execution_count": 1,
     "metadata": {},
     "output_type": "execute_result"
    }
   ],
   "source": [
    "\n",
    "# # Geo-Resistivity-meter\n",
    "# Hardware and software repository for a geophysical instrument\n",
    "# \n",
    "from tkinter import*\n",
    "from tkinter.ttk import *\n",
    "from tkinter import ttk  \n",
    "from PIL import Image, ImageTk\n",
    "import main_02 as ni\n",
    "from PIL import Image, ImageTk\n",
    "import customtkinter\n",
    "import time\n",
    "import pandas as pd\n",
    "from io import StringIO\n",
    "\n",
    "\n",
    "class janelaLogin():\n",
    "    def __init__(self):\n",
    "        self.root = Tk()\n",
    "        self.root.title('Geo-Resistivity-Meter')\n",
    "        width_of_window = 500\n",
    "        height_of_window = 250\n",
    "        screen_width = self.root.winfo_screenwidth()\n",
    "        screen_height = self.root.winfo_screenheight()\n",
    "        x_coordinate = (screen_width/2)-(width_of_window/2)\n",
    "        y_coordinate = (screen_height/2)-(height_of_window/2)\n",
    "        self.root.geometry(\"%dx%d+%d+%d\" %(width_of_window,height_of_window,x_coordinate,y_coordinate))\n",
    "        \n",
    "        #self.root.overrideredirect(1)\n",
    "        \n",
    "        icon = PhotoImage(file=\"fig/energia64.png\")\n",
    "        self.root.iconphoto(True, icon)\n",
    "        \n",
    "        s = Style()\n",
    "        s.theme_use('clam')\n",
    "        s.configure(\"red.Horizontal.TProgressbar\", foreground='red', background='#4f4f4f')\n",
    "        progress=Progressbar(self.root,style=\"red.Horizontal.TProgressbar\",orient=HORIZONTAL,length=500,mode='determinate',)\n",
    "        \n",
    "        def EXT():\n",
    "            self.root.destroy()\n",
    "            \n",
    "        def new_win():\n",
    "            ni.screen_config()\n",
    "            \n",
    "            \n",
    "        def bar():\n",
    "            l4=Label(self.root,text='Loading...')\n",
    "            lst4=('Calibri (Body)',10)\n",
    "            l4.config(font=lst4)\n",
    "            l4.place(x=18,y=210)\n",
    "            import time\n",
    "            r=0\n",
    "            for i in range(100):\n",
    "                progress['value']=r\n",
    "                self.root.update_idletasks()\n",
    "                time.sleep(0.03)\n",
    "                r=r+1\n",
    "            \n",
    "            EXT()\n",
    "            new_win()\n",
    "        \n",
    "        progress.place(x=0,y=235)\n",
    "        a='#249794'\n",
    "        frame1 = Frame(self.root,width=510,height=241).place(x=0,y=0)  #249794\n",
    "        \n",
    "        home_image = ImageTk.PhotoImage(Image.open(\"fig/logo1.png\"))\n",
    "        Label(frame1, image=home_image).grid(row=1,columnspan=1)\n",
    "        \n",
    "        \n",
    "        \n",
    "        b1=Button(self.root,text='Iniciar',command=bar)\n",
    "        b1.place(x=158,y=198,width=100,height=42)\n",
    "        b2=Button(self.root,text='Fechar',command=EXT)\n",
    "        b2.place(x=262,y=198,width=100,height=42)\n",
    "        \n",
    "\n",
    "        self.root.mainloop()\n",
    "        \n",
    "janelaLogin()\n",
    "\n"
   ]
  },
  {
   "cell_type": "code",
   "execution_count": null,
   "id": "e71e8d05",
   "metadata": {},
   "outputs": [],
   "source": []
  },
  {
   "cell_type": "code",
   "execution_count": null,
   "id": "e117fc65",
   "metadata": {},
   "outputs": [],
   "source": []
  },
  {
   "cell_type": "code",
   "execution_count": null,
   "id": "781a3808",
   "metadata": {},
   "outputs": [],
   "source": []
  }
 ],
 "metadata": {
  "kernelspec": {
   "display_name": "Python 3 (ipykernel)",
   "language": "python",
   "name": "python3"
  },
  "language_info": {
   "codemirror_mode": {
    "name": "ipython",
    "version": 3
   },
   "file_extension": ".py",
   "mimetype": "text/x-python",
   "name": "python",
   "nbconvert_exporter": "python",
   "pygments_lexer": "ipython3",
   "version": "3.9.12"
  }
 },
 "nbformat": 4,
 "nbformat_minor": 5
}
