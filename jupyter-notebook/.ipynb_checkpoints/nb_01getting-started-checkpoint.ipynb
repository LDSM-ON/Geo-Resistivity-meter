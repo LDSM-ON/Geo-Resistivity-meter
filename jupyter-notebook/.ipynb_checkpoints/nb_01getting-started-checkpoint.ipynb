{
 "cells": [
  {
   "cell_type": "markdown",
   "metadata": {},
   "source": [
    "R2 basic tutorial\n",
    "=======\n",
    "\n",
    "In this tutorial you will learn how to use the Python API of R* codes (http://www.es.lancs.ac.uk/people/amb/Freeware/R2/R2.htm).\n",
    "Start by importing the `Project` master class from the API (Application Programming Interface)."
   ]
  },
  {
   "cell_type": "markdown",
   "metadata": {},
   "source": [
    "1 Basics imports\n",
    "---\n",
    "Just import basic packages and the R2 API as a module (note : you will need to change the path for it, here we assume you launched the jupyter from inside the /examples/jupyter-notebook folder)."
   ]
  },
  {
   "cell_type": "code",
   "execution_count": null,
   "metadata": {},
   "outputs": [],
   "source": [
    "%matplotlib inline\n",
    "import warnings\n",
    "warnings.filterwarnings('ignore')\n",
    "import os\n",
    "import sys\n",
    "sys.path.append((os.path.relpath('../src'))) # add here the relative path of the API folder\n",
    "testdir = '../src/examples/dc-2d/'\n",
    "from resipy import Project"
   ]
  },
  {
   "cell_type": "markdown",
   "metadata": {},
   "source": [
    "2 Create an 'Project' object, import data and plot pseudo section\n",
    "----\n",
    "> The `Project` class was referred to as `R2` class in older version of ResIPy.\n",
    "\n",
    "The first step is to create an object out of the `Project` class, let's call it ```k``` . This is the main object we are going to interact with. Then the second step is to read the data from a survey file. Here we choose a csv file from the Syscal Pro that contains resistivity data only. Note then when importing the survey data, the object automatically search for reciprocal measurements and will compute a reciprocal error with the ones it finds."
   ]
  },
  {
   "cell_type": "code",
   "execution_count": null,
   "metadata": {},
   "outputs": [],
   "source": [
    "k = Project(typ='R2') # create a Project object in a working directory (can also set using k.setwd())\n",
    "k.createSurvey(testdir + 'syscal.csv', ftype='Syscal') # read the survey file"
   ]
  },
  {
   "cell_type": "markdown",
   "metadata": {},
   "source": [
    "We can plot the pseudosection and display errors based on reciprocal measurements."
   ]
  },
  {
   "cell_type": "code",
   "execution_count": null,
   "metadata": {},
   "outputs": [],
   "source": [
    "k.showPseudo()\n",
    "k.showError() # plot the reciprocal errors"
   ]
  },
  {
   "cell_type": "markdown",
   "metadata": {},
   "source": [
    "3 Data filtering\n",
    "---\n",
    "Below are a few examples of data filtering routines that can be used:\n",
    "- `k.filterUnpaired()` to remove unpaired measurements (so measurements with no reciprocal) -> those could be dummy measurements in a dipole-dipole configuration\n",
    "- `k.filterElec([5])` to remove a specific electrode (e.g. here all quadrupoles with electrode 5 are deleted)\n",
    "- `k.filterRecip(20)` to remove measurements based on their relative reciprocal error (e.g. all quadrupoles with a reciprocal error > 20% are discarded).\n",
    "More advanced data filtering can be achieved using the `filterData()` method from the `Survey` class. This method allows to filter out specific quadrupoles. An interactive version of it can be access using the `filterManual()` method which produces an interactive pseudo-section in the UI."
   ]
  },
  {
   "cell_type": "code",
   "execution_count": null,
   "metadata": {},
   "outputs": [],
   "source": [
    "k.filterUnpaired()\n",
    "k.showPseudo() # this actually removed the dummy measurements in this dipole-dipole survey (added for speed optimization)"
   ]
  },
  {
   "cell_type": "code",
   "execution_count": null,
   "metadata": {},
   "outputs": [],
   "source": [
    "k.filterElec([5]) # remove all quadrupoles associated with electrode 5\n",
    "k.showPseudo()"
   ]
  },
  {
   "cell_type": "code",
   "execution_count": null,
   "metadata": {},
   "outputs": [],
   "source": [
    "k.filterRecip(percent=20) # in this case this only removes one quadrupoles with reciprocal error bigger than 20 percent\n",
    "k.showPseudo()"
   ]
  },
  {
   "cell_type": "markdown",
   "metadata": {},
   "source": [
    "4 Fitting an error model\n",
    "---\n",
    "Different errors models are available to be fitted for DC data:\n",
    "- a simple linear model: `k.fitErrorLin()`\n",
    "- a power law model: `k.fitErrorPwl()`\n",
    "- a linear mixed effect model: `k.fitErrorLME()` (on Linux only with an R kernel installed)\n",
    "Each of those will create a new error column in the `Survey` object that will be used in the inversion if `k.err = True`.\n"
   ]
  },
  {
   "cell_type": "code",
   "execution_count": null,
   "metadata": {},
   "outputs": [],
   "source": [
    "k.fitErrorLin()"
   ]
  },
  {
   "cell_type": "code",
   "execution_count": null,
   "metadata": {},
   "outputs": [],
   "source": [
    "k.fitErrorPwl()"
   ]
  },
  {
   "cell_type": "markdown",
   "metadata": {},
   "source": [
    "5 Mesh\n",
    "----\n",
    "Two types of mesh can be created in 2D:\n",
    "- a quadrilateral mesh (`k.createMesh('quad')`)\n",
    "- a triangular mesh (`k.createmesh('trian')`)\n",
    "For 3D, only tetrahedral mesh can be created using `k.createMesh('tetra')`."
   ]
  },
  {
   "cell_type": "code",
   "execution_count": null,
   "metadata": {},
   "outputs": [],
   "source": [
    "k.createMesh(typ='quad') # generate quadrilateral mesh (default for 2D survey)\n",
    "k.showMesh()"
   ]
  },
  {
   "cell_type": "code",
   "execution_count": null,
   "metadata": {},
   "outputs": [],
   "source": [
    "k.createMesh('trian', show_output=False) # this actually call gmsh.exe to create the mesh\n",
    "k.showMesh()"
   ]
  },
  {
   "cell_type": "markdown",
   "metadata": {},
   "source": [
    "7 Inversion\n",
    "---\n",
    "The inversion takes place in the specify working directory of the R2 object specified the first time the `k = R2(<workingDirectory>)` is called. It can be changed after by using `k.setwd(<newWorkingDirectory>)`.\n",
    "The parameters of the inversion are defined in a dictionnary in `k.param` and ca be changed manually by the user (e.g. `k.param['a_wgt'] = 0.01`. All parameters have a default values and their names follow the R2 manual. The `.in` file is written automatically when the `k.invert()` method is called."
   ]
  },
  {
   "cell_type": "code",
   "execution_count": null,
   "metadata": {},
   "outputs": [],
   "source": [
    "k.param['data_type'] = 1 # using log of resistitivy\n",
    "k.err = True # if we want to use the error from the error models fitted before\n",
    "k.invert() # this will do the inversion"
   ]
  },
  {
   "cell_type": "markdown",
   "metadata": {},
   "source": [
    "8 Results visualisation and post-processing\n",
    "---\n",
    "Results can be show with `k.showResults()`. Multiple arguments can be passed to the method in order rescale the colorbar bar, view the sensitivity or not, change the attribute or plot contour. The errors from the inversion can also be plotted using either `k.pseudoError()` or `k.showInvError()`."
   ]
  },
  {
   "cell_type": "code",
   "execution_count": null,
   "metadata": {},
   "outputs": [],
   "source": [
    "k.showResults(attr='Resistivity(ohm.m)', sens=False, contour=True, vmin=30, vmax=100)"
   ]
  },
  {
   "cell_type": "code",
   "execution_count": null,
   "metadata": {},
   "outputs": [],
   "source": [
    "k.showPseudoInvError() # allow to see if some electrodes get higher error"
   ]
  },
  {
   "cell_type": "code",
   "execution_count": null,
   "metadata": {},
   "outputs": [],
   "source": [
    "k.showInvError() # all errors should be between -3 and 3"
   ]
  },
  {
   "cell_type": "markdown",
   "metadata": {},
   "source": [
    "In a nutshell\n",
    "-------------\n",
    "Below is a minimal example which imports the data, plots a pseudo section and inverts using all default parameters."
   ]
  },
  {
   "cell_type": "code",
   "execution_count": null,
   "metadata": {},
   "outputs": [],
   "source": [
    "k = Project(typ='R2') # create an Project object in a working directory (can also set using k.setwd())\n",
    "k.createSurvey(testdir + 'syscal.csv', ftype='Syscal') # read the survey file\n",
    "k.showPseudo() # plot pseudo section\n",
    "k.invert(iplot=True) # does the inversion (generate quand mesh and use default R2.in settings)"
   ]
  },
  {
   "cell_type": "code",
   "execution_count": null,
   "metadata": {},
   "outputs": [],
   "source": []
  }
 ],
 "metadata": {
  "kernelspec": {
   "display_name": "Python 3 (ipykernel)",
   "language": "python",
   "name": "python3"
  },
  "language_info": {
   "codemirror_mode": {
    "name": "ipython",
    "version": 3
   },
   "file_extension": ".py",
   "mimetype": "text/x-python",
   "name": "python",
   "nbconvert_exporter": "python",
   "pygments_lexer": "ipython3",
   "version": "3.9.12"
  }
 },
 "nbformat": 4,
 "nbformat_minor": 4
}
